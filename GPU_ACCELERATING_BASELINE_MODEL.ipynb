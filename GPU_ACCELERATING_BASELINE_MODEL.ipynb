{
  "nbformat": 4,
  "nbformat_minor": 0,
  "metadata": {
    "colab": {
      "provenance": []
    },
    "kernelspec": {
      "name": "python3",
      "display_name": "Python 3"
    },
    "language_info": {
      "name": "python"
    },
    "accelerator": "GPU",
    "gpuClass": "standard"
  },
  "cells": [
    {
      "cell_type": "markdown",
      "source": [
        "#**ACCELERATED IMAGE RECOMMENDATION SYSTEM**\n",
        "\n",
        "### **PART 2: GPU ACCELERATING BASELINE MODEL** "
      ],
      "metadata": {
        "id": "rEAgcAxEJWsG"
      }
    },
    {
      "cell_type": "markdown",
      "source": [
        "Import Statements"
      ],
      "metadata": {
        "id": "CFHCVPVnJfgK"
      }
    },
    {
      "cell_type": "code",
      "execution_count": 1,
      "metadata": {
        "id": "pMJ-bkSmIAQk"
      },
      "outputs": [],
      "source": [
        "import os\n",
        "import time\n",
        "from math import *\n",
        "import numpy as np\n",
        "import cupy as cp"
      ]
    },
    {
      "cell_type": "code",
      "source": [
        "!nvidia-smi"
      ],
      "metadata": {
        "id": "AMWa13hnKam0"
      },
      "execution_count": null,
      "outputs": []
    },
    {
      "cell_type": "markdown",
      "source": [
        "### Loading Features of Database Images and Query Image extracted from:\n",
        "1. RGB3D Histogram and Hu Moments\n",
        "2. MobileNet Features"
      ],
      "metadata": {
        "id": "gkqL6_1rJrEC"
      }
    },
    {
      "cell_type": "code",
      "source": [
        "queryVector_rgb3d = np.load('/content/blue359_rgb.npy')\n",
        "queryVector_mobilenet = np.load('/content/blue359_mobilenet.npy')\n",
        "\n",
        "features = np.load('/content/drive/MyDrive/image_features.npy',allow_pickle=True) \n",
        "features_flat = features.flat[0]\n",
        "features_rgb3d = list(features_flat.items())  \n",
        "\n",
        "features = np.load('/content/mobilenet_features.npy',allow_pickle=True)   \n",
        "features_flat = features.flat[0]\n",
        "features_mobilenet = list(features_flat.items())"
      ],
      "metadata": {
        "id": "jAglCa49IFw3"
      },
      "execution_count": null,
      "outputs": []
    },
    {
      "cell_type": "markdown",
      "source": [
        "### Accelerated Distance Measures"
      ],
      "metadata": {
        "id": "roASxCeBKaQH"
      }
    },
    {
      "cell_type": "markdown",
      "source": [
        "### 1. Euclidean Distance"
      ],
      "metadata": {
        "id": "sKU0fjljKk4D"
      }
    },
    {
      "cell_type": "code",
      "source": [
        "def euclidean_distance(queryVector, feature):   \n",
        "    try:\n",
        "      img = feature[0]\n",
        "      vec = feature[1]\n",
        "      X_gpu = cp.asarray(vec)\n",
        "      queryVector_gpu = cp.asarray(queryVector)\n",
        "      dist = cp.sum((X_gpu[:,None,:] - queryVector_gpu[None,:,:])**2, axis=2)**0.5\n",
        "      return img,cp.asnumpy(dist)\n",
        "    except:\n",
        "      pass\n",
        "    "
      ],
      "metadata": {
        "id": "G2A9oil3PrsL"
      },
      "execution_count": null,
      "outputs": []
    },
    {
      "cell_type": "markdown",
      "source": [
        "### Manhattan Distance"
      ],
      "metadata": {
        "id": "HA-v-rHjKx90"
      }
    },
    {
      "cell_type": "code",
      "source": [
        "def manhattan_distance(queryVector, feature): \n",
        "  try:\n",
        "    img = feature[0]\n",
        "    vec = feature[1]\n",
        "    X_gpu = cp.asarray(vec)\n",
        "    queryVector_gpu = cp.asarray(queryVector)\n",
        "    temp =cp.sum((queryVector_gpu - X_gpu))\n",
        "    dist = cp.abs(temp)\n",
        "    return img,cp.asnumpy(dist)\n",
        "  except:\n",
        "      pass"
      ],
      "metadata": {
        "id": "whcojdOw90_F"
      },
      "execution_count": null,
      "outputs": []
    },
    {
      "cell_type": "markdown",
      "source": [
        "### Chi Squared"
      ],
      "metadata": {
        "id": "GhcB6sehK0iZ"
      }
    },
    {
      "cell_type": "code",
      "source": [
        "def chi_squared(queryVector, feature):\n",
        "  try:\n",
        "    img = feature[0]\n",
        "    vec = feature[1]\n",
        "    X_gpu = cp.asarray(vec)\n",
        "    queryVector_gpu = cp.asarray(queryVector)\n",
        "\n",
        "    num = ((X_gpu[:,None,:] - queryVector_gpu[None,:,:])**2)\n",
        "    den = (X_gpu[:,None,:] + queryVector_gpu[None,:,:])\n",
        "    dist = cp.sum(num/den)\n",
        "       \n",
        "    return img,cp.asnumpy(dist)\n",
        "\n",
        "  except:\n",
        "      pass"
      ],
      "metadata": {
        "id": "rFwS0V5b910s"
      },
      "execution_count": null,
      "outputs": []
    },
    {
      "cell_type": "markdown",
      "source": [
        "### Cosine Similarity"
      ],
      "metadata": {
        "id": "_ib9Lkw4K3h0"
      }
    },
    {
      "cell_type": "code",
      "source": [
        "def cosine(queryVector, feature): \n",
        "  try:\n",
        "    img = feature[0]\n",
        "    vec = feature[1]\n",
        "    X_gpu = cp.asarray(vec)\n",
        "    queryVector_gpu = cp.asarray(queryVector)\n",
        "\n",
        "\n",
        "    dot_product = cp.dot(queryVector_gpu, cp.transpose(X_gpu))\n",
        "    norm_1 = cp.linalg.norm(queryVector_gpu)  \n",
        "    norm_2 = cp.linalg.norm(X_gpu)\n",
        "    dist =  dot_product / (norm_1 * norm_2)\n",
        "    dist = 1-dist\n",
        "       \n",
        "    return img,cp.asnumpy(dist)\n",
        "  except:\n",
        "      pass"
      ],
      "metadata": {
        "id": "YfHBiUh092w2"
      },
      "execution_count": null,
      "outputs": []
    },
    {
      "cell_type": "markdown",
      "source": [
        "### Accelerated Feature Comparison for Image features extracted using RGB3D histogram and Hu Moements"
      ],
      "metadata": {
        "id": "CQr8PzRj96w2"
      }
    },
    {
      "cell_type": "code",
      "source": [
        "start = time.perf_counter()\n",
        "search_results = euclidean_distance(queryVector_rgb3d, features_rgb3d)\n",
        "end = time.perf_counter()\n",
        "print(f\"Time for Accelerated query search - euclidean: {end-start}\")\n",
        "\n",
        "\n",
        "\n",
        "start = time.perf_counter()\n",
        "search_results = manhattan_distance(queryVector_rgb3d, features_rgb3d)\n",
        "end = time.perf_counter()\n",
        "print(f\"Time for Accelerated query search - manhattan: {end-start}\")\n",
        "\n",
        "\n",
        "start = time.perf_counter()\n",
        "search_results = chi_squared(queryVector_rgb3d, features_rgb3d)\n",
        "end = time.perf_counter()\n",
        "print(f\"Time for Accelerated query search - chi_squared: {end-start}\")\n",
        "\n",
        "\n",
        "\n",
        "start = time.perf_counter()\n",
        "search_results = cosine(queryVector_rgb3d, features_rgb3d)\n",
        "end = time.perf_counter()\n",
        "print(f\"Time for Accelerated query search - cosine: {end-start}\")"
      ],
      "metadata": {
        "id": "mQWIc0LpPtZG"
      },
      "execution_count": null,
      "outputs": []
    },
    {
      "cell_type": "markdown",
      "source": [
        "### Accelerated Feature Comparison for Image features extracted using MobileNet"
      ],
      "metadata": {
        "id": "I9-pPEqq_52k"
      }
    },
    {
      "cell_type": "code",
      "source": [
        "start = time.perf_counter()\n",
        "search_results = euclidean_distance(queryVector_mobilenet, features_mobilenet)\n",
        "end = time.perf_counter()\n",
        "print(f\"Time for Accelerated query search - euclidean: {end-start}\")\n",
        "\n",
        "\n",
        "\n",
        "start = time.perf_counter()\n",
        "search_results = manhattan_distance(queryVector_mobilenet, features_mobilenet)\n",
        "end = time.perf_counter()\n",
        "print(f\"Time for Accelerated query search - manhattan: {end-start}\")\n",
        "\n",
        "\n",
        "start = time.perf_counter()\n",
        "search_results = chi_squared(queryVector_mobilenet, features_mobilenet)\n",
        "end = time.perf_counter()\n",
        "print(f\"Time for Accelerated query search - chi_squared: {end-start}\")\n",
        "\n",
        "\n",
        "\n",
        "start = time.perf_counter()\n",
        "search_results = cosine(queryVector_mobilenet, features_mobilenet)\n",
        "end = time.perf_counter()\n",
        "print(f\"Time for Accelerated query search - cosine: {end-start}\")"
      ],
      "metadata": {
        "id": "5azQzcKoPwik"
      },
      "execution_count": null,
      "outputs": []
    }
  ]
}