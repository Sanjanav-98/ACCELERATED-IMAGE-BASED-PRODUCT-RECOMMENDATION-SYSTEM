{
  "nbformat": 4,
  "nbformat_minor": 0,
  "metadata": {
    "colab": {
      "provenance": []
    },
    "kernelspec": {
      "name": "python3",
      "display_name": "Python 3"
    },
    "language_info": {
      "name": "python"
    }
  },
  "cells": [
    {
      "cell_type": "markdown",
      "source": [
        "#**ACCELERATED IMAGE RECOMMENDATION SYSTEM**\n",
        "\n",
        "### **PART 1: PARALLELIZING IMAGE RECOMMENDATION SYSTEM** "
      ],
      "metadata": {
        "id": "3hA46tZuMDNJ"
      }
    },
    {
      "cell_type": "markdown",
      "source": [
        "# Import Statements"
      ],
      "metadata": {
        "id": "JvACshitMW6l"
      }
    },
    {
      "cell_type": "code",
      "execution_count": 1,
      "metadata": {
        "id": "-olxwkTjBXtC"
      },
      "outputs": [],
      "source": [
        "import os\n",
        "import cv2\n",
        "import math\n",
        "import time\n",
        "import numpy as np\n",
        "import pandas as pd\n",
        "import seaborn as sns\n",
        "import matplotlib.pyplot as plt\n",
        "from concurrent.futures import ThreadPoolExecutor, as_completed"
      ]
    },
    {
      "cell_type": "markdown",
      "source": [
        "# Loading Features of Database Images and Query Image extracted from:\n",
        "1. RGB3D Histogram and Hu Moments\n",
        "2. MobileNet Features"
      ],
      "metadata": {
        "id": "IbqzKeGjMe1W"
      }
    },
    {
      "cell_type": "code",
      "source": [
        "queryVector_rgb3d = np.load('/content/blue359_rgb.npy')\n",
        "queryVector_mobilenet = np.load('/content/drive/MyDrive/blue359_mobilenet.npy')\n",
        "\n",
        "features = np.load('/content/drive/MyDrive/image_features.npy',allow_pickle=True) \n",
        "features_flat = features.flat[0]\n",
        "features_rgb3d = list(features_flat.items())  \n",
        "\n",
        "features = np.load('/content/drive/MyDrive/mobilenet_features.npy',allow_pickle=True)   \n",
        "features_flat = features.flat[0]\n",
        "features_mobilenet = list(features_flat.items())"
      ],
      "metadata": {
        "id": "9TaTF7NLBe4r"
      },
      "execution_count": 2,
      "outputs": []
    },
    {
      "cell_type": "markdown",
      "source": [
        "# Distance Measures"
      ],
      "metadata": {
        "id": "U68PdOI0Nj55"
      }
    },
    {
      "cell_type": "markdown",
      "source": [
        "## 1. Euclidean Distance"
      ],
      "metadata": {
        "id": "ebT5GxO-NoXC"
      }
    },
    {
      "cell_type": "code",
      "source": [
        "def euclidean_distance(queryVector, feature): \n",
        "    img = feature[0]\n",
        "    vec = feature[1]\n",
        "    dist = np.sum((vec[:,None,:] - queryVector[None,:,:])**2, axis=2)**0.5\n",
        "    return img,dist"
      ],
      "metadata": {
        "id": "Q85xjxG7BnAW"
      },
      "execution_count": 7,
      "outputs": []
    },
    {
      "cell_type": "markdown",
      "source": [
        "## 2. Manhattan Distance"
      ],
      "metadata": {
        "id": "Z9yFRhWuNrwP"
      }
    },
    {
      "cell_type": "code",
      "source": [
        "def manhattan_distance(queryVector, feature): \n",
        "    img = feature[0]\n",
        "    vec = feature[1]\n",
        "    temp = np.sum((queryVector - vec))\n",
        "    dist = np.abs(temp)\n",
        "       \n",
        "    return img,dist"
      ],
      "metadata": {
        "id": "pjeNokWLBrIN"
      },
      "execution_count": 8,
      "outputs": []
    },
    {
      "cell_type": "markdown",
      "source": [
        "## 3. Chi Squared Distance"
      ],
      "metadata": {
        "id": "kcJPwhvbNvqP"
      }
    },
    {
      "cell_type": "code",
      "source": [
        "def chi_squared(queryVector, feature):\n",
        "    img = feature[0]\n",
        "    vec = feature[1]\n",
        "\n",
        "    num = ((vec[:,None,:] - queryVector[None,:,:])**2)\n",
        "    den = (vec[:,None,:] + queryVector[None,:,:])\n",
        "    dist = np.sum(num/den)\n",
        "       \n",
        "    return img,dist"
      ],
      "metadata": {
        "id": "nVEECeT1CEAE"
      },
      "execution_count": 9,
      "outputs": []
    },
    {
      "cell_type": "markdown",
      "source": [
        "## 4. Cosine Similarity "
      ],
      "metadata": {
        "id": "GV6Eb87bNyt0"
      }
    },
    {
      "cell_type": "code",
      "source": [
        "def cosine(queryVector, feature): \n",
        "    img = feature[0]\n",
        "    vec = feature[1]\n",
        "\n",
        "\n",
        "    dot_product = np.dot(queryVector, np.transpose(vec))\n",
        "    norm_1 = np.linalg.norm(queryVector)  \n",
        "    norm_2 = np.linalg.norm(vec)\n",
        "    dist =  dot_product / (norm_1 * norm_2)\n",
        "    dist = 1- dist\n",
        "    return img,dist"
      ],
      "metadata": {
        "id": "SfYIfvTjCNI7"
      },
      "execution_count": 10,
      "outputs": []
    },
    {
      "cell_type": "markdown",
      "source": [
        "# Baseline Model - Serial Implementation of Feature Comparison"
      ],
      "metadata": {
        "id": "uoM5zGZjCcj5"
      }
    },
    {
      "cell_type": "code",
      "source": [
        "def serial_calculate(queryVector,features,function):\n",
        "    measures = []\n",
        "    start = time.perf_counter()\n",
        "    for f in features:\n",
        "        imagename, val = function(queryVector,f)\n",
        "        measures.append((imagename, val))\n",
        "    end = time.perf_counter()\n",
        "    ser_time = {end-start}\n",
        "    print(\"The serial time taken for\",function,ser_time)\n",
        "    return measures"
      ],
      "metadata": {
        "id": "K47M35znCfGH"
      },
      "execution_count": 12,
      "outputs": []
    },
    {
      "cell_type": "markdown",
      "source": [
        "## Serial Time Calculation for Image features extracted using RGB3D histogram and Hu Moements"
      ],
      "metadata": {
        "id": "ENjKhM13CfvS"
      }
    },
    {
      "cell_type": "code",
      "source": [
        "measures_euclidean = serial_calculate(queryVector_rgb3d,features_rgb3d,euclidean_distance)\n",
        "\n",
        "measures_manhattan = serial_calculate(queryVector_rgb3d,features_rgb3d,manhattan_distance)\n",
        "\n",
        "measures_chi_squared = serial_calculate(queryVector_rgb3d,features_rgb3d,chi_squared)\n",
        "\n",
        "measures_cosine = serial_calculate(queryVector_rgb3d,features_rgb3d,cosine)"
      ],
      "metadata": {
        "id": "_q_VM-hIDVod"
      },
      "execution_count": null,
      "outputs": []
    },
    {
      "cell_type": "markdown",
      "source": [
        "## Displaying 10 recommended products using Cosine Similarity as an example"
      ],
      "metadata": {
        "id": "X2BNC86ROO-s"
      }
    },
    {
      "cell_type": "code",
      "source": [
        "measures_cosine.sort(key=lambda res: res[1])\n",
        "\n",
        "def getImg(img):\n",
        "    image_db_path = \"/content/PDC_dataset/\"\n",
        "    image = cv2.imread(image_db_path+img)\n",
        "    image = cv2.resize(image, (500,500))\n",
        "    image = cv2.cvtColor(image, cv2.COLOR_BGR2RGB)\n",
        "    return image\n",
        "\n",
        "plt.figure(figsize=(20,20)) \n",
        "\n",
        "for i in range(10):\n",
        "    plt.subplot(5,5,i+1)\n",
        "    plt.imshow(getImg(measures_cosine[i][0]))\n",
        "\n",
        "plt.show()"
      ],
      "metadata": {
        "id": "zQCB4Z05EF25"
      },
      "execution_count": null,
      "outputs": []
    },
    {
      "cell_type": "markdown",
      "source": [
        "## Serial Time Calculation for Image features extracted using MobileNet"
      ],
      "metadata": {
        "id": "M_EKz5hTEOEp"
      }
    },
    {
      "cell_type": "code",
      "source": [
        "measures_euclidean = serial_calculate(queryVector_mobilenet,features_mobilenet,euclidean_distance)\n",
        "\n",
        "measures_manhattan = serial_calculate(queryVector_mobilenet,features_mobilenet,manhattan_distance)\n",
        "\n",
        "measures_chi_squared = serial_calculate(queryVector_mobilenet,features_mobilenet,chi_squared)\n",
        "\n",
        "measures_cosine = serial_calculate(queryVector_mobilenet,features_mobilenet,cosine)"
      ],
      "metadata": {
        "id": "KlkMecdcERqJ",
        "colab": {
          "base_uri": "https://localhost:8080/"
        },
        "outputId": "149fff94-cd65-4c0d-bcaa-29b4c741d288"
      },
      "execution_count": 13,
      "outputs": [
        {
          "output_type": "stream",
          "name": "stdout",
          "text": [
            "The serial time taken for <function euclidean_distance at 0x7fbacef66e50> {0.6575117859993043}\n",
            "The serial time taken for <function manhattan_distance at 0x7fbacef66f70> {0.5567579929993371}\n",
            "The serial time taken for <function chi_squared at 0x7fbacef66c10> {0.81204229100058}\n"
          ]
        },
        {
          "output_type": "stream",
          "name": "stderr",
          "text": [
            "<ipython-input-10-0e9ee634f691>:9: RuntimeWarning: invalid value encountered in true_divide\n",
            "  dist =  dot_product / (norm_1 * norm_2)\n"
          ]
        },
        {
          "output_type": "stream",
          "name": "stdout",
          "text": [
            "The serial time taken for <function cosine at 0x7fbacef66040> {1.1349798749997717}\n"
          ]
        }
      ]
    },
    {
      "cell_type": "markdown",
      "source": [
        "## Displaying 10 recommended products using Chi Squared Similarity as an example"
      ],
      "metadata": {
        "id": "budpNGqzPIeb"
      }
    },
    {
      "cell_type": "code",
      "source": [
        "measures_chi_squared.sort(key=lambda res: res[1])\n",
        "\n",
        "def getImg(img):\n",
        "    image_db_path = \"/content/PDC_dataset/\"\n",
        "    image = cv2.imread(image_db_path+img)\n",
        "    image = cv2.resize(image, (500,500))\n",
        "    image = cv2.cvtColor(image, cv2.COLOR_BGR2RGB)\n",
        "    return image\n",
        "\n",
        "plt.figure(figsize=(20,20)) \n",
        "\n",
        "for i in range(25):\n",
        "    plt.subplot(5,5,i+1)\n",
        "    plt.imshow(getImg(measures_cosine[i][0]))\n",
        "\n",
        "plt.show()"
      ],
      "metadata": {
        "id": "5pirnZLvETx0"
      },
      "execution_count": null,
      "outputs": []
    },
    {
      "cell_type": "markdown",
      "source": [
        "## Parallel Implementation of Feature Comparison using Multi Threading \n",
        "  \n",
        "\n",
        "*   For thread no = 2,4,8,16,32 and 64\n",
        "\n",
        "\n",
        "\n",
        "\n",
        "\n",
        "\n",
        "\n",
        "\n",
        "\n"
      ],
      "metadata": {
        "id": "nLWZWnWvEhgJ"
      }
    },
    {
      "cell_type": "code",
      "source": [
        "def parallel_calculate(queryVector,features,threads,function):\n",
        "  start = time.perf_counter()\n",
        "  with ThreadPoolExecutor(threads) as executor:\n",
        "    futures = [executor.submit(function, queryVector , f) for f in features]\n",
        "\n",
        "  for future in as_completed(futures):\n",
        "    res = future.result()\n",
        "\n",
        "  end = time.perf_counter()\n",
        "  print(f\"Parallel Time for :\",function, {end-start})"
      ],
      "metadata": {
        "id": "vL7m2AAXEo61"
      },
      "execution_count": 19,
      "outputs": []
    },
    {
      "cell_type": "markdown",
      "source": [
        "## Parallel Time Calculation for Image features extracted using RGB3D histogram and Hu Moements"
      ],
      "metadata": {
        "id": "n6BjRJFrPjgX"
      }
    },
    {
      "cell_type": "code",
      "source": [
        "measures_euclidean = parallel_calculate(queryVector_rgb3d,features_rgb3d,64,euclidean_distance)\n",
        "\n",
        "measures_manhattan = parallel_calculate(queryVector_rgb3d,features_rgb3d,64,manhattan_distance)\n",
        "\n",
        "measures_chi_squared = parallel_calculate(queryVector_rgb3d,features_rgb3d,64,chi_squared)\n",
        "\n",
        "measures_cosine = parallel_calculate(queryVector_rgb3d,features_rgb3d,64,cosine)"
      ],
      "metadata": {
        "id": "g__873-lFZjN"
      },
      "execution_count": null,
      "outputs": []
    },
    {
      "cell_type": "markdown",
      "source": [
        "### Displaying 10 recommended products using Cosine Similarity as an example"
      ],
      "metadata": {
        "id": "ybZf-ymEPvNW"
      }
    },
    {
      "cell_type": "code",
      "source": [
        "measures_cosine.sort(key=lambda res: res[1])\n",
        "\n",
        "def getImg(img):\n",
        "    image_db_path = \"/content/PDC_dataset/\"\n",
        "    image = cv2.imread(image_db_path+img)\n",
        "    image = cv2.resize(image, (500,500))\n",
        "    image = cv2.cvtColor(image, cv2.COLOR_BGR2RGB)\n",
        "    return image\n",
        "\n",
        "plt.figure(figsize=(20,20)) \n",
        "\n",
        "for i in range(25):\n",
        "    plt.subplot(5,5,i+1)\n",
        "    plt.imshow(getImg(measures_cosine[i][0]))\n",
        "\n",
        "plt.show()"
      ],
      "metadata": {
        "id": "xqy_J-ZAFfLY"
      },
      "execution_count": null,
      "outputs": []
    },
    {
      "cell_type": "markdown",
      "source": [
        "## Parallel Time Calculation for Image features extracted using MobileNet"
      ],
      "metadata": {
        "id": "ZWkgPfyhPoOd"
      }
    },
    {
      "cell_type": "code",
      "source": [
        "measures_euclidean = parallel_calculate(queryVector_mobilenet,features_mobilenet,64,euclidean_distance)\n",
        "\n",
        "measures_manhattan = parallel_calculate(queryVector_mobilenet,features_mobilenet,64,manhattan_distance)\n",
        "\n",
        "measures_chi_squared = parallel_calculate(queryVector_mobilenet,features_mobilenet,64,chi_squared)\n",
        "\n",
        "measures_cosine = parallel_calculate(queryVector_mobilenet,features_mobilenet,64,cosine)"
      ],
      "metadata": {
        "colab": {
          "base_uri": "https://localhost:8080/"
        },
        "id": "eM_-99E9Ff5P",
        "outputId": "fc1eaf77-8533-4f37-f7fb-4cae02bf94aa"
      },
      "execution_count": 20,
      "outputs": [
        {
          "output_type": "stream",
          "name": "stdout",
          "text": [
            "Parallel Time for : <function euclidean_distance at 0x7fbacef66e50> {5.729642222999246}\n",
            "Parallel Time for : <function manhattan_distance at 0x7fbacef66f70> {4.863444096999956}\n",
            "Parallel Time for : <function chi_squared at 0x7fbacef66c10> {6.5278056469996955}\n"
          ]
        },
        {
          "output_type": "stream",
          "name": "stderr",
          "text": [
            "<ipython-input-10-0e9ee634f691>:9: RuntimeWarning: invalid value encountered in true_divide\n",
            "  dist =  dot_product / (norm_1 * norm_2)\n"
          ]
        },
        {
          "output_type": "stream",
          "name": "stdout",
          "text": [
            "Parallel Time for : <function cosine at 0x7fbacef66040> {6.241153443999792}\n"
          ]
        }
      ]
    },
    {
      "cell_type": "markdown",
      "source": [
        "### Displaying 10 recommended products using Chi Squared Similarity as an example"
      ],
      "metadata": {
        "id": "NCSZLzKdQZG4"
      }
    },
    {
      "cell_type": "code",
      "source": [
        "measures_chi_squared.sort(key=lambda res: res[1])\n",
        "\n",
        "def getImg(img):\n",
        "    image_db_path = \"/content/PDC_dataset/\"\n",
        "    image = cv2.imread(image_db_path+img)\n",
        "    image = cv2.resize(image, (500,500))\n",
        "    image = cv2.cvtColor(image, cv2.COLOR_BGR2RGB)\n",
        "    return image\n",
        "\n",
        "plt.figure(figsize=(20,20)) \n",
        "\n",
        "for i in range(25):\n",
        "    plt.subplot(5,5,i+1)\n",
        "    plt.imshow(getImg(measures_cosine[i][0]))\n",
        "\n",
        "plt.show()"
      ],
      "metadata": {
        "id": "KNcilZq0Ff-p"
      },
      "execution_count": null,
      "outputs": []
    }
  ]
}